{
 "cells": [
  {
   "cell_type": "markdown",
   "metadata": {},
   "source": [
    "# Session 1"
   ]
  },
  {
   "cell_type": "markdown",
   "metadata": {},
   "source": [
    "## Task 1.1"
   ]
  },
  {
   "cell_type": "code",
   "execution_count": 2,
   "metadata": {},
   "outputs": [],
   "source": [
    "import pm4py\n",
    "import pandas as pd\n",
    "import numpy as np\n",
    "from matplotlib import pyplot as plt\n"
   ]
  },
  {
   "cell_type": "code",
   "execution_count": 21,
   "metadata": {},
   "outputs": [
    {
     "data": {
      "application/vnd.jupyter.widget-view+json": {
       "model_id": "30a6f3d528104049a41af7cc17132e77",
       "version_major": 2,
       "version_minor": 0
      },
      "text/plain": [
       "parsing log, completed traces ::   0%|          | 0/150370 [00:00<?, ?it/s]"
      ]
     },
     "metadata": {},
     "output_type": "display_data"
    },
    {
     "data": {
      "text/html": [
       "<div>\n",
       "<style scoped>\n",
       "    .dataframe tbody tr th:only-of-type {\n",
       "        vertical-align: middle;\n",
       "    }\n",
       "\n",
       "    .dataframe tbody tr th {\n",
       "        vertical-align: top;\n",
       "    }\n",
       "\n",
       "    .dataframe thead th {\n",
       "        text-align: right;\n",
       "    }\n",
       "</style>\n",
       "<table border=\"1\" class=\"dataframe\">\n",
       "  <thead>\n",
       "    <tr style=\"text-align: right;\">\n",
       "      <th></th>\n",
       "      <th>amount</th>\n",
       "      <th>org:resource</th>\n",
       "      <th>dismissal</th>\n",
       "      <th>concept:name</th>\n",
       "      <th>vehicleClass</th>\n",
       "      <th>totalPaymentAmount</th>\n",
       "      <th>lifecycle:transition</th>\n",
       "      <th>time:timestamp</th>\n",
       "      <th>article</th>\n",
       "      <th>points</th>\n",
       "      <th>case:concept:name</th>\n",
       "      <th>expense</th>\n",
       "      <th>notificationType</th>\n",
       "      <th>lastSent</th>\n",
       "      <th>paymentAmount</th>\n",
       "      <th>matricola</th>\n",
       "    </tr>\n",
       "  </thead>\n",
       "  <tbody>\n",
       "    <tr>\n",
       "      <th>0</th>\n",
       "      <td>35.0</td>\n",
       "      <td>561</td>\n",
       "      <td>NIL</td>\n",
       "      <td>Create Fine</td>\n",
       "      <td>A</td>\n",
       "      <td>0.0</td>\n",
       "      <td>complete</td>\n",
       "      <td>2006-07-24 00:00:00+00:00</td>\n",
       "      <td>157.0</td>\n",
       "      <td>0.0</td>\n",
       "      <td>A1</td>\n",
       "      <td>NaN</td>\n",
       "      <td>NaN</td>\n",
       "      <td>NaN</td>\n",
       "      <td>NaN</td>\n",
       "      <td>NaN</td>\n",
       "    </tr>\n",
       "    <tr>\n",
       "      <th>1</th>\n",
       "      <td>NaN</td>\n",
       "      <td>NaN</td>\n",
       "      <td>NaN</td>\n",
       "      <td>Send Fine</td>\n",
       "      <td>NaN</td>\n",
       "      <td>NaN</td>\n",
       "      <td>complete</td>\n",
       "      <td>2006-12-05 00:00:00+00:00</td>\n",
       "      <td>NaN</td>\n",
       "      <td>NaN</td>\n",
       "      <td>A1</td>\n",
       "      <td>11.0</td>\n",
       "      <td>NaN</td>\n",
       "      <td>NaN</td>\n",
       "      <td>NaN</td>\n",
       "      <td>NaN</td>\n",
       "    </tr>\n",
       "    <tr>\n",
       "      <th>2</th>\n",
       "      <td>35.0</td>\n",
       "      <td>561</td>\n",
       "      <td>NIL</td>\n",
       "      <td>Create Fine</td>\n",
       "      <td>A</td>\n",
       "      <td>0.0</td>\n",
       "      <td>complete</td>\n",
       "      <td>2006-08-02 00:00:00+00:00</td>\n",
       "      <td>157.0</td>\n",
       "      <td>0.0</td>\n",
       "      <td>A100</td>\n",
       "      <td>NaN</td>\n",
       "      <td>NaN</td>\n",
       "      <td>NaN</td>\n",
       "      <td>NaN</td>\n",
       "      <td>NaN</td>\n",
       "    </tr>\n",
       "    <tr>\n",
       "      <th>3</th>\n",
       "      <td>NaN</td>\n",
       "      <td>NaN</td>\n",
       "      <td>NaN</td>\n",
       "      <td>Send Fine</td>\n",
       "      <td>NaN</td>\n",
       "      <td>NaN</td>\n",
       "      <td>complete</td>\n",
       "      <td>2006-12-12 00:00:00+00:00</td>\n",
       "      <td>NaN</td>\n",
       "      <td>NaN</td>\n",
       "      <td>A100</td>\n",
       "      <td>11.0</td>\n",
       "      <td>NaN</td>\n",
       "      <td>NaN</td>\n",
       "      <td>NaN</td>\n",
       "      <td>NaN</td>\n",
       "    </tr>\n",
       "    <tr>\n",
       "      <th>4</th>\n",
       "      <td>NaN</td>\n",
       "      <td>NaN</td>\n",
       "      <td>NaN</td>\n",
       "      <td>Insert Fine Notification</td>\n",
       "      <td>NaN</td>\n",
       "      <td>NaN</td>\n",
       "      <td>complete</td>\n",
       "      <td>2007-01-15 00:00:00+00:00</td>\n",
       "      <td>NaN</td>\n",
       "      <td>NaN</td>\n",
       "      <td>A100</td>\n",
       "      <td>NaN</td>\n",
       "      <td>P</td>\n",
       "      <td>P</td>\n",
       "      <td>NaN</td>\n",
       "      <td>NaN</td>\n",
       "    </tr>\n",
       "    <tr>\n",
       "      <th>5</th>\n",
       "      <td>71.5</td>\n",
       "      <td>NaN</td>\n",
       "      <td>NaN</td>\n",
       "      <td>Add penalty</td>\n",
       "      <td>NaN</td>\n",
       "      <td>NaN</td>\n",
       "      <td>complete</td>\n",
       "      <td>2007-03-16 00:00:00+00:00</td>\n",
       "      <td>NaN</td>\n",
       "      <td>NaN</td>\n",
       "      <td>A100</td>\n",
       "      <td>NaN</td>\n",
       "      <td>NaN</td>\n",
       "      <td>NaN</td>\n",
       "      <td>NaN</td>\n",
       "      <td>NaN</td>\n",
       "    </tr>\n",
       "    <tr>\n",
       "      <th>6</th>\n",
       "      <td>NaN</td>\n",
       "      <td>NaN</td>\n",
       "      <td>NaN</td>\n",
       "      <td>Send for Credit Collection</td>\n",
       "      <td>NaN</td>\n",
       "      <td>NaN</td>\n",
       "      <td>complete</td>\n",
       "      <td>2009-03-30 00:00:00+00:00</td>\n",
       "      <td>NaN</td>\n",
       "      <td>NaN</td>\n",
       "      <td>A100</td>\n",
       "      <td>NaN</td>\n",
       "      <td>NaN</td>\n",
       "      <td>NaN</td>\n",
       "      <td>NaN</td>\n",
       "      <td>NaN</td>\n",
       "    </tr>\n",
       "    <tr>\n",
       "      <th>7</th>\n",
       "      <td>36.0</td>\n",
       "      <td>561</td>\n",
       "      <td>NIL</td>\n",
       "      <td>Create Fine</td>\n",
       "      <td>A</td>\n",
       "      <td>0.0</td>\n",
       "      <td>complete</td>\n",
       "      <td>2007-03-09 00:00:00+00:00</td>\n",
       "      <td>157.0</td>\n",
       "      <td>0.0</td>\n",
       "      <td>A10000</td>\n",
       "      <td>NaN</td>\n",
       "      <td>NaN</td>\n",
       "      <td>NaN</td>\n",
       "      <td>NaN</td>\n",
       "      <td>NaN</td>\n",
       "    </tr>\n",
       "    <tr>\n",
       "      <th>8</th>\n",
       "      <td>NaN</td>\n",
       "      <td>NaN</td>\n",
       "      <td>NaN</td>\n",
       "      <td>Send Fine</td>\n",
       "      <td>NaN</td>\n",
       "      <td>NaN</td>\n",
       "      <td>complete</td>\n",
       "      <td>2007-07-17 00:00:00+00:00</td>\n",
       "      <td>NaN</td>\n",
       "      <td>NaN</td>\n",
       "      <td>A10000</td>\n",
       "      <td>13.0</td>\n",
       "      <td>NaN</td>\n",
       "      <td>NaN</td>\n",
       "      <td>NaN</td>\n",
       "      <td>NaN</td>\n",
       "    </tr>\n",
       "    <tr>\n",
       "      <th>9</th>\n",
       "      <td>NaN</td>\n",
       "      <td>NaN</td>\n",
       "      <td>NaN</td>\n",
       "      <td>Insert Fine Notification</td>\n",
       "      <td>NaN</td>\n",
       "      <td>NaN</td>\n",
       "      <td>complete</td>\n",
       "      <td>2007-08-02 00:00:00+00:00</td>\n",
       "      <td>NaN</td>\n",
       "      <td>NaN</td>\n",
       "      <td>A10000</td>\n",
       "      <td>NaN</td>\n",
       "      <td>P</td>\n",
       "      <td>P</td>\n",
       "      <td>NaN</td>\n",
       "      <td>NaN</td>\n",
       "    </tr>\n",
       "  </tbody>\n",
       "</table>\n",
       "</div>"
      ],
      "text/plain": [
       "   amount org:resource dismissal                concept:name vehicleClass  \\\n",
       "0    35.0          561       NIL                 Create Fine            A   \n",
       "1     NaN          NaN       NaN                   Send Fine          NaN   \n",
       "2    35.0          561       NIL                 Create Fine            A   \n",
       "3     NaN          NaN       NaN                   Send Fine          NaN   \n",
       "4     NaN          NaN       NaN    Insert Fine Notification          NaN   \n",
       "5    71.5          NaN       NaN                 Add penalty          NaN   \n",
       "6     NaN          NaN       NaN  Send for Credit Collection          NaN   \n",
       "7    36.0          561       NIL                 Create Fine            A   \n",
       "8     NaN          NaN       NaN                   Send Fine          NaN   \n",
       "9     NaN          NaN       NaN    Insert Fine Notification          NaN   \n",
       "\n",
       "   totalPaymentAmount lifecycle:transition            time:timestamp  article  \\\n",
       "0                 0.0             complete 2006-07-24 00:00:00+00:00    157.0   \n",
       "1                 NaN             complete 2006-12-05 00:00:00+00:00      NaN   \n",
       "2                 0.0             complete 2006-08-02 00:00:00+00:00    157.0   \n",
       "3                 NaN             complete 2006-12-12 00:00:00+00:00      NaN   \n",
       "4                 NaN             complete 2007-01-15 00:00:00+00:00      NaN   \n",
       "5                 NaN             complete 2007-03-16 00:00:00+00:00      NaN   \n",
       "6                 NaN             complete 2009-03-30 00:00:00+00:00      NaN   \n",
       "7                 0.0             complete 2007-03-09 00:00:00+00:00    157.0   \n",
       "8                 NaN             complete 2007-07-17 00:00:00+00:00      NaN   \n",
       "9                 NaN             complete 2007-08-02 00:00:00+00:00      NaN   \n",
       "\n",
       "   points case:concept:name  expense notificationType lastSent  paymentAmount  \\\n",
       "0     0.0                A1      NaN              NaN      NaN            NaN   \n",
       "1     NaN                A1     11.0              NaN      NaN            NaN   \n",
       "2     0.0              A100      NaN              NaN      NaN            NaN   \n",
       "3     NaN              A100     11.0              NaN      NaN            NaN   \n",
       "4     NaN              A100      NaN                P        P            NaN   \n",
       "5     NaN              A100      NaN              NaN      NaN            NaN   \n",
       "6     NaN              A100      NaN              NaN      NaN            NaN   \n",
       "7     0.0            A10000      NaN              NaN      NaN            NaN   \n",
       "8     NaN            A10000     13.0              NaN      NaN            NaN   \n",
       "9     NaN            A10000      NaN                P        P            NaN   \n",
       "\n",
       "   matricola  \n",
       "0        NaN  \n",
       "1        NaN  \n",
       "2        NaN  \n",
       "3        NaN  \n",
       "4        NaN  \n",
       "5        NaN  \n",
       "6        NaN  \n",
       "7        NaN  \n",
       "8        NaN  \n",
       "9        NaN  "
      ]
     },
     "execution_count": 21,
     "metadata": {},
     "output_type": "execute_result"
    }
   ],
   "source": [
    "road_mngmnt_event_log = pm4py.read_xes('Data/Road_Traffic_Fine_Management_Process.xes.gz')\n",
    "road_mngmnt_event_log.head(10)"
   ]
  },
  {
   "cell_type": "code",
   "execution_count": 22,
   "metadata": {},
   "outputs": [],
   "source": [
    "df = pm4py.convert_to_dataframe(road_mngmnt_event_log)"
   ]
  },
  {
   "cell_type": "code",
   "execution_count": 23,
   "metadata": {},
   "outputs": [
    {
     "name": "stdout",
     "output_type": "stream",
     "text": [
      "Min date: 2000-01-01 00:00:00+00:00\n",
      "Max date: 2013-06-18 00:00:00+00:00\n"
     ]
    }
   ],
   "source": [
    "df['time:timestamp'] = pd.to_datetime(df['time:timestamp'])\n",
    "\n",
    "min_date = df['time:timestamp'].min()\n",
    "max_date = df['time:timestamp'].max()\n",
    "\n",
    "print(\"Min date:\", min_date)\n",
    "print(\"Max date:\", max_date)"
   ]
  },
  {
   "cell_type": "code",
   "execution_count": 24,
   "metadata": {},
   "outputs": [
    {
     "name": "stdout",
     "output_type": "stream",
     "text": [
      "Number of distinct initial fine amounts: 113\n",
      "0.0\n",
      "35.0\n",
      "4351.0\n"
     ]
    }
   ],
   "source": [
    "# Filter Create Fine events and get distinct fine amounts\n",
    "create_fine_events = df[df['concept:name'] == 'Create Fine']\n",
    "distinct_fine_amounts = create_fine_events['amount'].nunique() \n",
    "\n",
    "print(\"Number of distinct initial fine amounts:\", distinct_fine_amounts)\n",
    "print(create_fine_events['amount'].min())\n",
    "print(create_fine_events['amount'].median())\n",
    "print(create_fine_events['amount'].max())"
   ]
  },
  {
   "cell_type": "markdown",
   "metadata": {},
   "source": [
    "a) What are the min and max event dates in the log, i.e., what timespan does the log cover?\n",
    "- The log covers a timespan from 2000-01-01 to 2013-06-18.\n",
    "\n",
    "b) How many distinct initial fine amounts (associated with a Create Fine event) does the log have?\n",
    "- 113\n",
    "\n",
    "c) What are min, median, max of the initial amount? Reflect the result: what do you recommend to be investigated further?\n",
    "- Minimum initial amount was 0.0, median is 35 and maximum is 4351.\n",
    "\n",
    "d) How many Create Fine events have an initial fine amount between 1 and 20 Euros (inclusive)?\n",
    "- 4124\n"
   ]
  },
  {
   "cell_type": "markdown",
   "metadata": {},
   "source": [
    "# Session 2"
   ]
  },
  {
   "cell_type": "markdown",
   "metadata": {},
   "source": [
    "## Task 1\n",
    "Add a feature to the event log that represents, for each case, the current sum of payment amounts after each event."
   ]
  },
  {
   "cell_type": "markdown",
   "metadata": {},
   "source": [
    "1a) What is the corresponding amount after the final event of case A10001?\n",
    "87 (Data Wrangler)"
   ]
  },
  {
   "cell_type": "code",
   "execution_count": 25,
   "metadata": {},
   "outputs": [
    {
     "data": {
      "text/html": [
       "<div>\n",
       "<style scoped>\n",
       "    .dataframe tbody tr th:only-of-type {\n",
       "        vertical-align: middle;\n",
       "    }\n",
       "\n",
       "    .dataframe tbody tr th {\n",
       "        vertical-align: top;\n",
       "    }\n",
       "\n",
       "    .dataframe thead th {\n",
       "        text-align: right;\n",
       "    }\n",
       "</style>\n",
       "<table border=\"1\" class=\"dataframe\">\n",
       "  <thead>\n",
       "    <tr style=\"text-align: right;\">\n",
       "      <th></th>\n",
       "      <th>amount</th>\n",
       "      <th>org:resource</th>\n",
       "      <th>dismissal</th>\n",
       "      <th>concept:name</th>\n",
       "      <th>vehicleClass</th>\n",
       "      <th>totalPaymentAmount</th>\n",
       "      <th>lifecycle:transition</th>\n",
       "      <th>time:timestamp</th>\n",
       "      <th>article</th>\n",
       "      <th>points</th>\n",
       "      <th>case:concept:name</th>\n",
       "      <th>expense</th>\n",
       "      <th>notificationType</th>\n",
       "      <th>lastSent</th>\n",
       "      <th>paymentAmount</th>\n",
       "      <th>matricola</th>\n",
       "      <th>cumulative_payment</th>\n",
       "    </tr>\n",
       "  </thead>\n",
       "  <tbody>\n",
       "    <tr>\n",
       "      <th>7</th>\n",
       "      <td>36.0</td>\n",
       "      <td>561</td>\n",
       "      <td>NIL</td>\n",
       "      <td>Create Fine</td>\n",
       "      <td>A</td>\n",
       "      <td>0.0</td>\n",
       "      <td>complete</td>\n",
       "      <td>2007-03-09 00:00:00+00:00</td>\n",
       "      <td>157.0</td>\n",
       "      <td>0.0</td>\n",
       "      <td>A10000</td>\n",
       "      <td>NaN</td>\n",
       "      <td>NaN</td>\n",
       "      <td>NaN</td>\n",
       "      <td>NaN</td>\n",
       "      <td>NaN</td>\n",
       "      <td>NaN</td>\n",
       "    </tr>\n",
       "    <tr>\n",
       "      <th>8</th>\n",
       "      <td>NaN</td>\n",
       "      <td>NaN</td>\n",
       "      <td>NaN</td>\n",
       "      <td>Send Fine</td>\n",
       "      <td>NaN</td>\n",
       "      <td>NaN</td>\n",
       "      <td>complete</td>\n",
       "      <td>2007-07-17 00:00:00+00:00</td>\n",
       "      <td>NaN</td>\n",
       "      <td>NaN</td>\n",
       "      <td>A10000</td>\n",
       "      <td>13.0</td>\n",
       "      <td>NaN</td>\n",
       "      <td>NaN</td>\n",
       "      <td>NaN</td>\n",
       "      <td>NaN</td>\n",
       "      <td>NaN</td>\n",
       "    </tr>\n",
       "    <tr>\n",
       "      <th>9</th>\n",
       "      <td>NaN</td>\n",
       "      <td>NaN</td>\n",
       "      <td>NaN</td>\n",
       "      <td>Insert Fine Notification</td>\n",
       "      <td>NaN</td>\n",
       "      <td>NaN</td>\n",
       "      <td>complete</td>\n",
       "      <td>2007-08-02 00:00:00+00:00</td>\n",
       "      <td>NaN</td>\n",
       "      <td>NaN</td>\n",
       "      <td>A10000</td>\n",
       "      <td>NaN</td>\n",
       "      <td>P</td>\n",
       "      <td>P</td>\n",
       "      <td>NaN</td>\n",
       "      <td>NaN</td>\n",
       "      <td>NaN</td>\n",
       "    </tr>\n",
       "    <tr>\n",
       "      <th>10</th>\n",
       "      <td>74.0</td>\n",
       "      <td>NaN</td>\n",
       "      <td>NaN</td>\n",
       "      <td>Add penalty</td>\n",
       "      <td>NaN</td>\n",
       "      <td>NaN</td>\n",
       "      <td>complete</td>\n",
       "      <td>2007-10-01 00:00:00+00:00</td>\n",
       "      <td>NaN</td>\n",
       "      <td>NaN</td>\n",
       "      <td>A10000</td>\n",
       "      <td>NaN</td>\n",
       "      <td>NaN</td>\n",
       "      <td>NaN</td>\n",
       "      <td>NaN</td>\n",
       "      <td>NaN</td>\n",
       "      <td>NaN</td>\n",
       "    </tr>\n",
       "    <tr>\n",
       "      <th>11</th>\n",
       "      <td>NaN</td>\n",
       "      <td>NaN</td>\n",
       "      <td>NaN</td>\n",
       "      <td>Payment</td>\n",
       "      <td>NaN</td>\n",
       "      <td>87.0</td>\n",
       "      <td>complete</td>\n",
       "      <td>2008-09-09 00:00:00+00:00</td>\n",
       "      <td>NaN</td>\n",
       "      <td>NaN</td>\n",
       "      <td>A10000</td>\n",
       "      <td>NaN</td>\n",
       "      <td>NaN</td>\n",
       "      <td>NaN</td>\n",
       "      <td>87.0</td>\n",
       "      <td>NaN</td>\n",
       "      <td>87.0</td>\n",
       "    </tr>\n",
       "  </tbody>\n",
       "</table>\n",
       "</div>"
      ],
      "text/plain": [
       "    amount org:resource dismissal              concept:name vehicleClass  \\\n",
       "7     36.0          561       NIL               Create Fine            A   \n",
       "8      NaN          NaN       NaN                 Send Fine          NaN   \n",
       "9      NaN          NaN       NaN  Insert Fine Notification          NaN   \n",
       "10    74.0          NaN       NaN               Add penalty          NaN   \n",
       "11     NaN          NaN       NaN                   Payment          NaN   \n",
       "\n",
       "    totalPaymentAmount lifecycle:transition            time:timestamp  \\\n",
       "7                  0.0             complete 2007-03-09 00:00:00+00:00   \n",
       "8                  NaN             complete 2007-07-17 00:00:00+00:00   \n",
       "9                  NaN             complete 2007-08-02 00:00:00+00:00   \n",
       "10                 NaN             complete 2007-10-01 00:00:00+00:00   \n",
       "11                87.0             complete 2008-09-09 00:00:00+00:00   \n",
       "\n",
       "    article  points case:concept:name  expense notificationType lastSent  \\\n",
       "7     157.0     0.0            A10000      NaN              NaN      NaN   \n",
       "8       NaN     NaN            A10000     13.0              NaN      NaN   \n",
       "9       NaN     NaN            A10000      NaN                P        P   \n",
       "10      NaN     NaN            A10000      NaN              NaN      NaN   \n",
       "11      NaN     NaN            A10000      NaN              NaN      NaN   \n",
       "\n",
       "    paymentAmount  matricola  cumulative_payment  \n",
       "7             NaN        NaN                 NaN  \n",
       "8             NaN        NaN                 NaN  \n",
       "9             NaN        NaN                 NaN  \n",
       "10            NaN        NaN                 NaN  \n",
       "11           87.0        NaN                87.0  "
      ]
     },
     "metadata": {},
     "output_type": "display_data"
    }
   ],
   "source": [
    "# Create column cumulative_payment and add up current sum after each event\n",
    "df['cumulative_payment'] = df.groupby('case:concept:name')['paymentAmount'].cumsum()\n",
    "\n",
    "# Filter the data for case A10000\n",
    "case_a10000_data = df[df['case:concept:name'] == 'A10000'].copy()\n",
    "\n",
    "# Create cumulative payment column by grouping by 'case:concept:name' and summing the 'amount'\n",
    "case_a10000_data.loc[:, 'cumulative_payment'] = case_a10000_data.groupby('case:concept:name')['paymentAmount'].cumsum()\n",
    "\n",
    "display(case_a10000_data.head(20))"
   ]
  },
  {
   "cell_type": "code",
   "execution_count": 26,
   "metadata": {},
   "outputs": [
    {
     "name": "stdout",
     "output_type": "stream",
     "text": [
      "Discrepancy found in case A10000:\n",
      "    totalPaymentAmount  computed_totalPaymentAmount\n",
      "7                  0.0                          0.0\n",
      "8                  NaN                          0.0\n",
      "9                  NaN                          0.0\n",
      "10                 NaN                          0.0\n",
      "11                87.0                         87.0\n"
     ]
    }
   ],
   "source": [
    "#Filter the dataframe for the specific case 'A10000'\n",
    "case_df = df.loc[df['case:concept:name'] == 'A10000'].copy()\n",
    "\n",
    "# Calculate the cumulative sum of paymentAmount (ignoring NaN)\n",
    "case_df.loc[:, 'computed_totalPaymentAmount'] = case_df['paymentAmount'].fillna(0).cumsum()\n",
    "\n",
    "# Check if totalPaymentAmount matches the computed cumulative sum\n",
    "if not case_df['totalPaymentAmount'].equals(case_df['computed_totalPaymentAmount']):\n",
    "    # Print the discrepancies\n",
    "    print(f\"Discrepancy found in case A10000:\")\n",
    "    print(case_df[['totalPaymentAmount', 'computed_totalPaymentAmount']])\n",
    "else:\n",
    "    print(\"Case A10000: totalPaymentAmount is correct.\")"
   ]
  },
  {
   "cell_type": "markdown",
   "metadata": {},
   "source": [
    "1b) Recall that the already existing feature totalPaymentAmount also claims to represent the current sum of payment\n",
    "amounts. Write code to verify that totalPaymentAmount was computed correctly by comparing it with the feature\n",
    "you just added. Reflect the result of the verification.\n",
    "\n",
    "There is an equality of totalPaymentAmount and the computed_totalPaymentAmount (see above)"
   ]
  },
  {
   "cell_type": "markdown",
   "metadata": {},
   "source": [
    "## Task 2\n",
    "Add a feature outstanding_balance to the event log that represents, for each case, the amount that still has to be paid by the offender after each event. Recall that the offender has to pay the initial fine amount, the penalty if added and any expenses that are recorded. Define outstanding_balance and any preliminary features as event enrichments."
   ]
  },
  {
   "cell_type": "code",
   "execution_count": 27,
   "metadata": {},
   "outputs": [
    {
     "data": {
      "text/html": [
       "<div>\n",
       "<style scoped>\n",
       "    .dataframe tbody tr th:only-of-type {\n",
       "        vertical-align: middle;\n",
       "    }\n",
       "\n",
       "    .dataframe tbody tr th {\n",
       "        vertical-align: top;\n",
       "    }\n",
       "\n",
       "    .dataframe thead th {\n",
       "        text-align: right;\n",
       "    }\n",
       "</style>\n",
       "<table border=\"1\" class=\"dataframe\">\n",
       "  <thead>\n",
       "    <tr style=\"text-align: right;\">\n",
       "      <th></th>\n",
       "      <th>case:concept:name</th>\n",
       "      <th>amount</th>\n",
       "      <th>expense</th>\n",
       "      <th>CumulativeFinesPenalties</th>\n",
       "      <th>computed_totalPaymentAmount</th>\n",
       "      <th>outstanding_balance</th>\n",
       "    </tr>\n",
       "  </thead>\n",
       "  <tbody>\n",
       "    <tr>\n",
       "      <th>12</th>\n",
       "      <td>A10001</td>\n",
       "      <td>36.0</td>\n",
       "      <td>0.0</td>\n",
       "      <td>36.0</td>\n",
       "      <td>0.0</td>\n",
       "      <td>36.0</td>\n",
       "    </tr>\n",
       "    <tr>\n",
       "      <th>13</th>\n",
       "      <td>A10001</td>\n",
       "      <td>0.0</td>\n",
       "      <td>13.0</td>\n",
       "      <td>49.0</td>\n",
       "      <td>0.0</td>\n",
       "      <td>49.0</td>\n",
       "    </tr>\n",
       "    <tr>\n",
       "      <th>14</th>\n",
       "      <td>A10001</td>\n",
       "      <td>0.0</td>\n",
       "      <td>0.0</td>\n",
       "      <td>49.0</td>\n",
       "      <td>0.0</td>\n",
       "      <td>49.0</td>\n",
       "    </tr>\n",
       "    <tr>\n",
       "      <th>15</th>\n",
       "      <td>A10001</td>\n",
       "      <td>0.0</td>\n",
       "      <td>0.0</td>\n",
       "      <td>49.0</td>\n",
       "      <td>0.0</td>\n",
       "      <td>49.0</td>\n",
       "    </tr>\n",
       "    <tr>\n",
       "      <th>16</th>\n",
       "      <td>A10001</td>\n",
       "      <td>74.0</td>\n",
       "      <td>0.0</td>\n",
       "      <td>123.0</td>\n",
       "      <td>0.0</td>\n",
       "      <td>123.0</td>\n",
       "    </tr>\n",
       "    <tr>\n",
       "      <th>17</th>\n",
       "      <td>A10001</td>\n",
       "      <td>0.0</td>\n",
       "      <td>0.0</td>\n",
       "      <td>123.0</td>\n",
       "      <td>0.0</td>\n",
       "      <td>123.0</td>\n",
       "    </tr>\n",
       "    <tr>\n",
       "      <th>18</th>\n",
       "      <td>A10004</td>\n",
       "      <td>36.0</td>\n",
       "      <td>0.0</td>\n",
       "      <td>36.0</td>\n",
       "      <td>0.0</td>\n",
       "      <td>36.0</td>\n",
       "    </tr>\n",
       "    <tr>\n",
       "      <th>19</th>\n",
       "      <td>A10004</td>\n",
       "      <td>0.0</td>\n",
       "      <td>13.0</td>\n",
       "      <td>49.0</td>\n",
       "      <td>0.0</td>\n",
       "      <td>49.0</td>\n",
       "    </tr>\n",
       "    <tr>\n",
       "      <th>20</th>\n",
       "      <td>A10004</td>\n",
       "      <td>0.0</td>\n",
       "      <td>0.0</td>\n",
       "      <td>49.0</td>\n",
       "      <td>0.0</td>\n",
       "      <td>49.0</td>\n",
       "    </tr>\n",
       "    <tr>\n",
       "      <th>21</th>\n",
       "      <td>A10004</td>\n",
       "      <td>74.0</td>\n",
       "      <td>0.0</td>\n",
       "      <td>123.0</td>\n",
       "      <td>0.0</td>\n",
       "      <td>123.0</td>\n",
       "    </tr>\n",
       "    <tr>\n",
       "      <th>22</th>\n",
       "      <td>A10004</td>\n",
       "      <td>0.0</td>\n",
       "      <td>0.0</td>\n",
       "      <td>123.0</td>\n",
       "      <td>0.0</td>\n",
       "      <td>123.0</td>\n",
       "    </tr>\n",
       "    <tr>\n",
       "      <th>60</th>\n",
       "      <td>A10018</td>\n",
       "      <td>22.0</td>\n",
       "      <td>0.0</td>\n",
       "      <td>22.0</td>\n",
       "      <td>0.0</td>\n",
       "      <td>22.0</td>\n",
       "    </tr>\n",
       "    <tr>\n",
       "      <th>61</th>\n",
       "      <td>A10018</td>\n",
       "      <td>0.0</td>\n",
       "      <td>13.0</td>\n",
       "      <td>35.0</td>\n",
       "      <td>0.0</td>\n",
       "      <td>35.0</td>\n",
       "    </tr>\n",
       "    <tr>\n",
       "      <th>62</th>\n",
       "      <td>A10018</td>\n",
       "      <td>0.0</td>\n",
       "      <td>0.0</td>\n",
       "      <td>35.0</td>\n",
       "      <td>0.0</td>\n",
       "      <td>35.0</td>\n",
       "    </tr>\n",
       "    <tr>\n",
       "      <th>63</th>\n",
       "      <td>A10018</td>\n",
       "      <td>44.0</td>\n",
       "      <td>0.0</td>\n",
       "      <td>79.0</td>\n",
       "      <td>0.0</td>\n",
       "      <td>79.0</td>\n",
       "    </tr>\n",
       "    <tr>\n",
       "      <th>64</th>\n",
       "      <td>A10018</td>\n",
       "      <td>0.0</td>\n",
       "      <td>0.0</td>\n",
       "      <td>79.0</td>\n",
       "      <td>35.0</td>\n",
       "      <td>44.0</td>\n",
       "    </tr>\n",
       "  </tbody>\n",
       "</table>\n",
       "</div>"
      ],
      "text/plain": [
       "   case:concept:name  amount  expense  CumulativeFinesPenalties  \\\n",
       "12            A10001    36.0      0.0                      36.0   \n",
       "13            A10001     0.0     13.0                      49.0   \n",
       "14            A10001     0.0      0.0                      49.0   \n",
       "15            A10001     0.0      0.0                      49.0   \n",
       "16            A10001    74.0      0.0                     123.0   \n",
       "17            A10001     0.0      0.0                     123.0   \n",
       "18            A10004    36.0      0.0                      36.0   \n",
       "19            A10004     0.0     13.0                      49.0   \n",
       "20            A10004     0.0      0.0                      49.0   \n",
       "21            A10004    74.0      0.0                     123.0   \n",
       "22            A10004     0.0      0.0                     123.0   \n",
       "60            A10018    22.0      0.0                      22.0   \n",
       "61            A10018     0.0     13.0                      35.0   \n",
       "62            A10018     0.0      0.0                      35.0   \n",
       "63            A10018    44.0      0.0                      79.0   \n",
       "64            A10018     0.0      0.0                      79.0   \n",
       "\n",
       "    computed_totalPaymentAmount  outstanding_balance  \n",
       "12                          0.0                 36.0  \n",
       "13                          0.0                 49.0  \n",
       "14                          0.0                 49.0  \n",
       "15                          0.0                 49.0  \n",
       "16                          0.0                123.0  \n",
       "17                          0.0                123.0  \n",
       "18                          0.0                 36.0  \n",
       "19                          0.0                 49.0  \n",
       "20                          0.0                 49.0  \n",
       "21                          0.0                123.0  \n",
       "22                          0.0                123.0  \n",
       "60                          0.0                 22.0  \n",
       "61                          0.0                 35.0  \n",
       "62                          0.0                 35.0  \n",
       "63                          0.0                 79.0  \n",
       "64                         35.0                 44.0  "
      ]
     },
     "metadata": {},
     "output_type": "display_data"
    }
   ],
   "source": [
    "# Step 1: Ensure 'paymentAmount' is filled with 0 for NaN values\n",
    "df['paymentAmount'] = df['paymentAmount'].fillna(0).astype(float)\n",
    "\n",
    "# Step 2: Calculate computed_totalPaymentAmount as the cumulative sum of 'paymentAmount' for each case\n",
    "df['computed_totalPaymentAmount'] = df.groupby('case:concept:name')['paymentAmount'].cumsum()\n",
    "\n",
    "# Step 3: Ensure 'amount' and 'expense' columns are filled and cast to float\n",
    "df['amount'] = df['amount'].fillna(0).astype(float)\n",
    "df['expense'] = df['expense'].fillna(0).astype(float)\n",
    "\n",
    "# Step 4: Calculate the total fines and penalties\n",
    "df['TotalFinesAndPenalties'] = df['amount'] + df['expense']\n",
    "\n",
    "# Step 5: Calculate the cumulative total obligations\n",
    "df['CumulativeFinesPenalties'] = df.groupby('case:concept:name')['TotalFinesAndPenalties'].cumsum()\n",
    "\n",
    "# Step 6: Calculate outstanding balance by subtracting cumulative payments from cumulative fines and penalties\n",
    "df['outstanding_balance'] = df['CumulativeFinesPenalties'] - df['computed_totalPaymentAmount']\n",
    "\n",
    "# Step 7: Check the output for specific cases\n",
    "display(df[df['case:concept:name'].isin(['A10001', 'A10004', 'A10018'])][['case:concept:name', 'amount', 'expense', 'CumulativeFinesPenalties', 'computed_totalPaymentAmount', 'outstanding_balance']])\n"
   ]
  },
  {
   "cell_type": "markdown",
   "metadata": {},
   "source": [
    "2a) What is the outstanding balance at the final event of each of the cases A10001, A10004, A10018?\n",
    "\n",
    "A10001: 123.0\n",
    "A10004: 123.0\n",
    "A10018: 44.0"
   ]
  },
  {
   "cell_type": "code",
   "execution_count": 28,
   "metadata": {},
   "outputs": [
    {
     "name": "stdout",
     "output_type": "stream",
     "text": [
      "Case A10001: Outstanding balance = 123.0\n",
      "Case A10004: Outstanding balance = 123.0\n",
      "Case A10018: Outstanding balance = 44.0\n"
     ]
    }
   ],
   "source": [
    "# List of cases to inspect\n",
    "cases_to_inspect = ['A10001', 'A10004', 'A10018']\n",
    "\n",
    "for case in cases_to_inspect:\n",
    "    # Get the final event for each case\n",
    "    final_event = df[df['case:concept:name'] == case].iloc[-1]\n",
    "    \n",
    "    # Print the outstanding balance and other details\n",
    "    print(f\"Case {case}: Outstanding balance = {final_event['outstanding_balance']}\")\n",
    "\n",
    "\n"
   ]
  },
  {
   "cell_type": "markdown",
   "metadata": {},
   "source": [
    "2b) Inspect the cases. Interpret the result for each of these cases, explaining why the specific amount is outstanding.\n",
    "Case A10001: Outstanding balance = 123.0\n",
    "Penalty = nan, Total Expenses = nan, Total Payments = nan\n",
    "\n",
    "For Case A10001 the final amount, which is 123 needs to be paid, there are no penalties nor expenses recorded.\n",
    "\n",
    "Case A10004: Outstanding balance = 123.0\n",
    "Penalty = nan, Total Expenses = nan, Total Payments = nan\n",
    "\n",
    "For Case A10004 the final amount, which is 123 needs to be paid, there are no penalties nor expenses recorded.\n",
    "\n",
    "Case A10018: Outstanding balance = 44.0\n",
    "Penalty = nan, Total Expenses = nan, Total Payments = 35.0\n",
    "For Case A10018 the final amount, which is 44 needs to be paid, there are no penalties nor expenses recorded."
   ]
  },
  {
   "cell_type": "markdown",
   "metadata": {},
   "source": [
    "## Task 3\n",
    "Create an initial case log with some generic features (e.g. start time, end time, number of events). Add a feature to the case log that represents the initial fine amount.\n"
   ]
  },
  {
   "cell_type": "markdown",
   "metadata": {},
   "source": [
    "a) Create a histogram of the initial fine amount for the log."
   ]
  },
  {
   "cell_type": "code",
   "execution_count": 29,
   "metadata": {},
   "outputs": [
    {
     "data": {
      "text/plain": [
       "initial_fine_amount\n",
       "35.00      25363\n",
       "36.00      19160\n",
       "33.60      17493\n",
       "38.00      14739\n",
       "31.30      11188\n",
       "           ...  \n",
       "1626.45        1\n",
       "72.00          1\n",
       "259.00         1\n",
       "171.94         1\n",
       "1725.00        1\n",
       "Name: count, Length: 113, dtype: int64"
      ]
     },
     "execution_count": 29,
     "metadata": {},
     "output_type": "execute_result"
    }
   ],
   "source": [
    "\n",
    "\n",
    "# Assuming 'df' is the event log with events for each case\n",
    "# We start by grouping by 'case:concept:name' to get a summary per case\n",
    "case_log = df.groupby('case:concept:name').agg(\n",
    "    start_time=('time:timestamp', 'min'),\n",
    "    end_time=('time:timestamp', 'max'),\n",
    "    number_of_events=('concept:name', 'count'),\n",
    "    initial_fine_amount=('amount', 'first')  # Assuming 'amount' is the initial fine\n",
    ").reset_index()\n",
    "\n",
    "# Display the initial case log\n",
    "case_log.head()\n",
    "\n",
    "# Give me the number of occurences of different values of initial_fine_amount\n",
    "case_log['initial_fine_amount'].value_counts()\n",
    "\n"
   ]
  },
  {
   "cell_type": "code",
   "execution_count": 30,
   "metadata": {},
   "outputs": [
    {
     "data": {
      "image/png": "[encoded data removed]",
      "text/plain": [
       "<Figure size 1000x600 with 1 Axes>"
      ]
     },
     "metadata": {},
     "output_type": "display_data"
    }
   ],
   "source": [
    "plt.figure(figsize=(10, 6))\n",
    "plt.hist(case_log['initial_fine_amount'], bins='auto', edgecolor='black')\n",
    "plt.title('Histogram of Initial Fine Amounts')\n",
    "plt.xlabel('Initial Fine Amount')\n",
    "plt.ylabel('Frequency')\n",
    "plt.show()"
   ]
  },
  {
   "cell_type": "markdown",
   "metadata": {},
   "source": [
    "3b) Briefly describe the distribution that you see in the histogram.\n",
    "\n",
    "There are three columns which show that the initial fine amount is under 1000. The count of these columns varies. The count of initial fine amount under 1000 is above 140'000. There we can observe that the initial fine amount is from zero to approx. 250. The other two columns are less in count but have a higher initial fine amount. From this histogram we can conclude that there exist more initial fine amount in count but the amount is not high. High fine amount are less in count."
   ]
  },
  {
   "cell_type": "code",
   "execution_count": 31,
   "metadata": {},
   "outputs": [
    {
     "name": "stderr",
     "output_type": "stream",
     "text": [
      "/var/folders/gg/w_x4b_tx7tqgntjvzj6vzb4w0000gn/T/ipykernel_49378/2010655874.py:4: FutureWarning: Series.fillna with 'method' is deprecated and will raise in a future version. Use obj.ffill() or obj.bfill() instead.\n",
      "  df['final_outstanding_balance'] = df['outstanding_balance'].fillna(method='ffill')\n"
     ]
    },
    {
     "data": {
      "text/html": [
       "<div>\n",
       "<style scoped>\n",
       "    .dataframe tbody tr th:only-of-type {\n",
       "        vertical-align: middle;\n",
       "    }\n",
       "\n",
       "    .dataframe tbody tr th {\n",
       "        vertical-align: top;\n",
       "    }\n",
       "\n",
       "    .dataframe thead th {\n",
       "        text-align: right;\n",
       "    }\n",
       "</style>\n",
       "<table border=\"1\" class=\"dataframe\">\n",
       "  <thead>\n",
       "    <tr style=\"text-align: right;\">\n",
       "      <th></th>\n",
       "      <th>case:concept:name</th>\n",
       "      <th>start_time</th>\n",
       "      <th>end_time</th>\n",
       "      <th>number_of_events</th>\n",
       "      <th>initial_fine_amount</th>\n",
       "      <th>final_outstanding_balance</th>\n",
       "    </tr>\n",
       "  </thead>\n",
       "  <tbody>\n",
       "    <tr>\n",
       "      <th>0</th>\n",
       "      <td>A1</td>\n",
       "      <td>2006-07-24 00:00:00+00:00</td>\n",
       "      <td>2006-12-05 00:00:00+00:00</td>\n",
       "      <td>2</td>\n",
       "      <td>35.0</td>\n",
       "      <td>46.0</td>\n",
       "    </tr>\n",
       "    <tr>\n",
       "      <th>1</th>\n",
       "      <td>A100</td>\n",
       "      <td>2006-08-02 00:00:00+00:00</td>\n",
       "      <td>2009-03-30 00:00:00+00:00</td>\n",
       "      <td>5</td>\n",
       "      <td>35.0</td>\n",
       "      <td>117.5</td>\n",
       "    </tr>\n",
       "    <tr>\n",
       "      <th>2</th>\n",
       "      <td>A10000</td>\n",
       "      <td>2007-03-09 00:00:00+00:00</td>\n",
       "      <td>2008-09-09 00:00:00+00:00</td>\n",
       "      <td>5</td>\n",
       "      <td>36.0</td>\n",
       "      <td>36.0</td>\n",
       "    </tr>\n",
       "    <tr>\n",
       "      <th>3</th>\n",
       "      <td>A10001</td>\n",
       "      <td>2007-03-19 00:00:00+00:00</td>\n",
       "      <td>2007-09-24 00:00:00+00:00</td>\n",
       "      <td>6</td>\n",
       "      <td>36.0</td>\n",
       "      <td>123.0</td>\n",
       "    </tr>\n",
       "    <tr>\n",
       "      <th>4</th>\n",
       "      <td>A10004</td>\n",
       "      <td>2007-03-20 00:00:00+00:00</td>\n",
       "      <td>2009-03-30 00:00:00+00:00</td>\n",
       "      <td>5</td>\n",
       "      <td>36.0</td>\n",
       "      <td>123.0</td>\n",
       "    </tr>\n",
       "  </tbody>\n",
       "</table>\n",
       "</div>"
      ],
      "text/plain": [
       "  case:concept:name                start_time                  end_time  \\\n",
       "0                A1 2006-07-24 00:00:00+00:00 2006-12-05 00:00:00+00:00   \n",
       "1              A100 2006-08-02 00:00:00+00:00 2009-03-30 00:00:00+00:00   \n",
       "2            A10000 2007-03-09 00:00:00+00:00 2008-09-09 00:00:00+00:00   \n",
       "3            A10001 2007-03-19 00:00:00+00:00 2007-09-24 00:00:00+00:00   \n",
       "4            A10004 2007-03-20 00:00:00+00:00 2009-03-30 00:00:00+00:00   \n",
       "\n",
       "   number_of_events  initial_fine_amount  final_outstanding_balance  \n",
       "0                 2                 35.0                       46.0  \n",
       "1                 5                 35.0                      117.5  \n",
       "2                 5                 36.0                       36.0  \n",
       "3                 6                 36.0                      123.0  \n",
       "4                 5                 36.0                      123.0  "
      ]
     },
     "execution_count": 31,
     "metadata": {},
     "output_type": "execute_result"
    }
   ],
   "source": [
    "# Ensure sorting by case and timestamp before calculating the final outstanding balance\n",
    "df = df.sort_values(by=['case:concept:name', 'time:timestamp'])\n",
    "# do a final oustanding balance column\n",
    "df['final_outstanding_balance'] = df['outstanding_balance'].fillna(method='ffill')\n",
    "#final_outstanding_balance = case_df.log[:,'final_outstanding_balance'].df.groupby('case:concept:name')['paymentAmount'].cumsum()\n",
    "\n",
    "# Get the final outstanding balance per case (from the last event in each case)\n",
    "final_outstanding_balance = df.groupby('case:concept:name')['final_outstanding_balance'].last().reset_index()\n",
    "\n",
    "# Merge final outstanding balance into the case log\n",
    "case_log = pd.merge(case_log, final_outstanding_balance, on='case:concept:name')\n",
    "\n",
    "# Display the case log with the new final outstanding balance column\n",
    "case_log.head()\n"
   ]
  },
  {
   "cell_type": "code",
   "execution_count": 32,
   "metadata": {},
   "outputs": [
    {
     "data": {
      "image/png": "[encoded data removed]",
      "text/plain": [
       "<Figure size 1000x600 with 1 Axes>"
      ]
     },
     "metadata": {},
     "output_type": "display_data"
    },
    {
     "name": "stdout",
     "output_type": "stream",
     "text": [
      "column: case:concept:name\n",
      "case:concept:name\n",
      "A1         1\n",
      "S152611    1\n",
      "S152574    1\n",
      "S152576    1\n",
      "S152577    1\n",
      "          ..\n",
      "N57495     1\n",
      "N57496     1\n",
      "N57497     1\n",
      "N57498     1\n",
      "V9999      1\n",
      "Name: count, Length: 150370, dtype: int64\n",
      "\n",
      "\n",
      "column: start_time\n",
      "start_time\n",
      "2002-07-07 00:00:00+00:00    232\n",
      "2005-07-17 00:00:00+00:00    228\n",
      "2000-07-23 00:00:00+00:00    212\n",
      "2002-07-21 00:00:00+00:00    203\n",
      "2004-07-18 00:00:00+00:00    199\n",
      "                            ... \n",
      "2012-11-22 00:00:00+00:00      1\n",
      "2003-01-19 00:00:00+00:00      1\n",
      "2012-12-29 00:00:00+00:00      1\n",
      "2002-10-27 00:00:00+00:00      1\n",
      "2004-12-25 00:00:00+00:00      1\n",
      "Name: count, Length: 4819, dtype: int64\n",
      "\n",
      "\n",
      "column: end_time\n",
      "end_time\n",
      "2002-04-10 00:00:00+00:00    9153\n",
      "2009-03-30 00:00:00+00:00    8873\n",
      "2012-03-26 00:00:00+00:00    6928\n",
      "2003-01-10 00:00:00+00:00    6281\n",
      "2010-10-15 00:00:00+00:00    5111\n",
      "                             ... \n",
      "2011-06-11 00:00:00+00:00       1\n",
      "2006-02-26 00:00:00+00:00       1\n",
      "2010-11-21 00:00:00+00:00       1\n",
      "2011-02-12 00:00:00+00:00       1\n",
      "2001-10-20 00:00:00+00:00       1\n",
      "Name: count, Length: 4383, dtype: int64\n",
      "\n",
      "\n",
      "column: number_of_events\n",
      "number_of_events\n",
      "2     66756\n",
      "5     66047\n",
      "6     12537\n",
      "3      3515\n",
      "9       712\n",
      "7       288\n",
      "4       226\n",
      "8       179\n",
      "10       80\n",
      "11       12\n",
      "14        5\n",
      "15        4\n",
      "12        4\n",
      "16        2\n",
      "17        2\n",
      "20        1\n",
      "Name: count, dtype: int64\n",
      "\n",
      "\n",
      "column: initial_fine_amount\n",
      "initial_fine_amount\n",
      "35.00      25363\n",
      "36.00      19160\n",
      "33.60      17493\n",
      "38.00      14739\n",
      "31.30      11188\n",
      "           ...  \n",
      "1626.45        1\n",
      "72.00          1\n",
      "259.00         1\n",
      "171.94         1\n",
      "1725.00        1\n",
      "Name: count, Length: 113, dtype: int64\n",
      "\n",
      "\n",
      "column: final_outstanding_balance\n",
      "final_outstanding_balance\n",
      " 0.00      48579\n",
      " 129.00     4787\n",
      " 117.50     4374\n",
      " 123.00     3953\n",
      " 46.00      3595\n",
      "           ...  \n",
      " 13.60         1\n",
      "-47.83         1\n",
      " 28.37         1\n",
      " 19.87         1\n",
      " 261.80        1\n",
      "Name: count, Length: 1523, dtype: int64\n",
      "\n",
      "\n"
     ]
    },
    {
     "data": {
      "text/html": [
       "<div>\n",
       "<style scoped>\n",
       "    .dataframe tbody tr th:only-of-type {\n",
       "        vertical-align: middle;\n",
       "    }\n",
       "\n",
       "    .dataframe tbody tr th {\n",
       "        vertical-align: top;\n",
       "    }\n",
       "\n",
       "    .dataframe thead th {\n",
       "        text-align: right;\n",
       "    }\n",
       "</style>\n",
       "<table border=\"1\" class=\"dataframe\">\n",
       "  <thead>\n",
       "    <tr style=\"text-align: right;\">\n",
       "      <th></th>\n",
       "      <th>case:concept:name</th>\n",
       "      <th>start_time</th>\n",
       "      <th>end_time</th>\n",
       "      <th>number_of_events</th>\n",
       "      <th>initial_fine_amount</th>\n",
       "      <th>final_outstanding_balance</th>\n",
       "    </tr>\n",
       "  </thead>\n",
       "  <tbody>\n",
       "    <tr>\n",
       "      <th>0</th>\n",
       "      <td>A1</td>\n",
       "      <td>2006-07-24 00:00:00+00:00</td>\n",
       "      <td>2006-12-05 00:00:00+00:00</td>\n",
       "      <td>2</td>\n",
       "      <td>35.0</td>\n",
       "      <td>46.00</td>\n",
       "    </tr>\n",
       "    <tr>\n",
       "      <th>1</th>\n",
       "      <td>A100</td>\n",
       "      <td>2006-08-02 00:00:00+00:00</td>\n",
       "      <td>2009-03-30 00:00:00+00:00</td>\n",
       "      <td>5</td>\n",
       "      <td>35.0</td>\n",
       "      <td>117.50</td>\n",
       "    </tr>\n",
       "    <tr>\n",
       "      <th>2</th>\n",
       "      <td>A10000</td>\n",
       "      <td>2007-03-09 00:00:00+00:00</td>\n",
       "      <td>2008-09-09 00:00:00+00:00</td>\n",
       "      <td>5</td>\n",
       "      <td>36.0</td>\n",
       "      <td>36.00</td>\n",
       "    </tr>\n",
       "    <tr>\n",
       "      <th>3</th>\n",
       "      <td>A10001</td>\n",
       "      <td>2007-03-19 00:00:00+00:00</td>\n",
       "      <td>2007-09-24 00:00:00+00:00</td>\n",
       "      <td>6</td>\n",
       "      <td>36.0</td>\n",
       "      <td>123.00</td>\n",
       "    </tr>\n",
       "    <tr>\n",
       "      <th>4</th>\n",
       "      <td>A10004</td>\n",
       "      <td>2007-03-20 00:00:00+00:00</td>\n",
       "      <td>2009-03-30 00:00:00+00:00</td>\n",
       "      <td>5</td>\n",
       "      <td>36.0</td>\n",
       "      <td>123.00</td>\n",
       "    </tr>\n",
       "    <tr>\n",
       "      <th>...</th>\n",
       "      <td>...</td>\n",
       "      <td>...</td>\n",
       "      <td>...</td>\n",
       "      <td>...</td>\n",
       "      <td>...</td>\n",
       "      <td>...</td>\n",
       "    </tr>\n",
       "    <tr>\n",
       "      <th>150365</th>\n",
       "      <td>V9995</td>\n",
       "      <td>2002-09-07 00:00:00+00:00</td>\n",
       "      <td>2004-01-10 00:00:00+00:00</td>\n",
       "      <td>5</td>\n",
       "      <td>131.0</td>\n",
       "      <td>408.16</td>\n",
       "    </tr>\n",
       "    <tr>\n",
       "      <th>150366</th>\n",
       "      <td>V9996</td>\n",
       "      <td>2002-09-07 00:00:00+00:00</td>\n",
       "      <td>2002-11-06 00:00:00+00:00</td>\n",
       "      <td>3</td>\n",
       "      <td>131.0</td>\n",
       "      <td>-5.16</td>\n",
       "    </tr>\n",
       "    <tr>\n",
       "      <th>150367</th>\n",
       "      <td>V9997</td>\n",
       "      <td>2002-09-07 00:00:00+00:00</td>\n",
       "      <td>2004-01-10 00:00:00+00:00</td>\n",
       "      <td>5</td>\n",
       "      <td>131.0</td>\n",
       "      <td>408.16</td>\n",
       "    </tr>\n",
       "    <tr>\n",
       "      <th>150368</th>\n",
       "      <td>V9998</td>\n",
       "      <td>2002-09-07 00:00:00+00:00</td>\n",
       "      <td>2004-01-10 00:00:00+00:00</td>\n",
       "      <td>5</td>\n",
       "      <td>131.0</td>\n",
       "      <td>403.00</td>\n",
       "    </tr>\n",
       "    <tr>\n",
       "      <th>150369</th>\n",
       "      <td>V9999</td>\n",
       "      <td>2002-09-07 00:00:00+00:00</td>\n",
       "      <td>2004-01-10 00:00:00+00:00</td>\n",
       "      <td>5</td>\n",
       "      <td>131.0</td>\n",
       "      <td>408.16</td>\n",
       "    </tr>\n",
       "  </tbody>\n",
       "</table>\n",
       "<p>150370 rows × 6 columns</p>\n",
       "</div>"
      ],
      "text/plain": [
       "       case:concept:name                start_time                  end_time  \\\n",
       "0                     A1 2006-07-24 00:00:00+00:00 2006-12-05 00:00:00+00:00   \n",
       "1                   A100 2006-08-02 00:00:00+00:00 2009-03-30 00:00:00+00:00   \n",
       "2                 A10000 2007-03-09 00:00:00+00:00 2008-09-09 00:00:00+00:00   \n",
       "3                 A10001 2007-03-19 00:00:00+00:00 2007-09-24 00:00:00+00:00   \n",
       "4                 A10004 2007-03-20 00:00:00+00:00 2009-03-30 00:00:00+00:00   \n",
       "...                  ...                       ...                       ...   \n",
       "150365             V9995 2002-09-07 00:00:00+00:00 2004-01-10 00:00:00+00:00   \n",
       "150366             V9996 2002-09-07 00:00:00+00:00 2002-11-06 00:00:00+00:00   \n",
       "150367             V9997 2002-09-07 00:00:00+00:00 2004-01-10 00:00:00+00:00   \n",
       "150368             V9998 2002-09-07 00:00:00+00:00 2004-01-10 00:00:00+00:00   \n",
       "150369             V9999 2002-09-07 00:00:00+00:00 2004-01-10 00:00:00+00:00   \n",
       "\n",
       "        number_of_events  initial_fine_amount  final_outstanding_balance  \n",
       "0                      2                 35.0                      46.00  \n",
       "1                      5                 35.0                     117.50  \n",
       "2                      5                 36.0                      36.00  \n",
       "3                      6                 36.0                     123.00  \n",
       "4                      5                 36.0                     123.00  \n",
       "...                  ...                  ...                        ...  \n",
       "150365                 5                131.0                     408.16  \n",
       "150366                 3                131.0                      -5.16  \n",
       "150367                 5                131.0                     408.16  \n",
       "150368                 5                131.0                     403.00  \n",
       "150369                 5                131.0                     408.16  \n",
       "\n",
       "[150370 rows x 6 columns]"
      ]
     },
     "metadata": {},
     "output_type": "display_data"
    }
   ],
   "source": [
    "# Plotting the histogram of final outstanding balances\n",
    "plt.figure(figsize=(10, 6))\n",
    "plt.hist(case_log['final_outstanding_balance'], bins='auto', edgecolor='black')\n",
    "plt.title('Histogram of Final Outstanding Balances')\n",
    "plt.xlabel('Final Outstanding Balance')\n",
    "plt.ylabel('Frequency')\n",
    "plt.show()\n",
    "for column in case_log.columns:\n",
    "    print(f\"column: {column}\")\n",
    "    print(case_log[column].value_counts())\n",
    "    print(\"\\n\")\n",
    "\n",
    "display(case_log.head(500000))"
   ]
  },
  {
   "cell_type": "markdown",
   "metadata": {},
   "source": [
    "## Task 4\n",
    "Add a variable to the case log that represents the final outstanding balance. Plot a histogram for final outstanding balance. Reflect the result.\n",
    "\n",
    "The highest count in final outstanding balance is unter 140'000. The final oustanding balance is a negative number. Then we have under 20'000 count between 0-2000 final outstanding balance.\n",
    "We can observe that this data has more negative final outstanding balance than positive."
   ]
  },
  {
   "cell_type": "code",
   "execution_count": 33,
   "metadata": {},
   "outputs": [
    {
     "data": {
      "text/html": [
       "<div>\n",
       "<style scoped>\n",
       "    .dataframe tbody tr th:only-of-type {\n",
       "        vertical-align: middle;\n",
       "    }\n",
       "\n",
       "    .dataframe tbody tr th {\n",
       "        vertical-align: top;\n",
       "    }\n",
       "\n",
       "    .dataframe thead th {\n",
       "        text-align: right;\n",
       "    }\n",
       "</style>\n",
       "<table border=\"1\" class=\"dataframe\">\n",
       "  <thead>\n",
       "    <tr style=\"text-align: right;\">\n",
       "      <th></th>\n",
       "      <th>case:concept:name</th>\n",
       "      <th>start_time</th>\n",
       "      <th>end_time</th>\n",
       "      <th>number_of_events</th>\n",
       "      <th>initial_fine_amount</th>\n",
       "      <th>final_outstanding_balance</th>\n",
       "      <th>is_dismissed</th>\n",
       "      <th>is_fully_paid</th>\n",
       "      <th>is_sent_to_credit_collection</th>\n",
       "    </tr>\n",
       "  </thead>\n",
       "  <tbody>\n",
       "    <tr>\n",
       "      <th>0</th>\n",
       "      <td>A1</td>\n",
       "      <td>2006-07-24 00:00:00+00:00</td>\n",
       "      <td>2006-12-05 00:00:00+00:00</td>\n",
       "      <td>2</td>\n",
       "      <td>35.0</td>\n",
       "      <td>46.0</td>\n",
       "      <td>NaN</td>\n",
       "      <td>False</td>\n",
       "      <td>NaN</td>\n",
       "    </tr>\n",
       "    <tr>\n",
       "      <th>1</th>\n",
       "      <td>A100</td>\n",
       "      <td>2006-08-02 00:00:00+00:00</td>\n",
       "      <td>2009-03-30 00:00:00+00:00</td>\n",
       "      <td>5</td>\n",
       "      <td>35.0</td>\n",
       "      <td>117.5</td>\n",
       "      <td>NaN</td>\n",
       "      <td>False</td>\n",
       "      <td>NaN</td>\n",
       "    </tr>\n",
       "    <tr>\n",
       "      <th>2</th>\n",
       "      <td>A10000</td>\n",
       "      <td>2007-03-09 00:00:00+00:00</td>\n",
       "      <td>2008-09-09 00:00:00+00:00</td>\n",
       "      <td>5</td>\n",
       "      <td>36.0</td>\n",
       "      <td>36.0</td>\n",
       "      <td>NaN</td>\n",
       "      <td>False</td>\n",
       "      <td>NaN</td>\n",
       "    </tr>\n",
       "    <tr>\n",
       "      <th>3</th>\n",
       "      <td>A10001</td>\n",
       "      <td>2007-03-19 00:00:00+00:00</td>\n",
       "      <td>2007-09-24 00:00:00+00:00</td>\n",
       "      <td>6</td>\n",
       "      <td>36.0</td>\n",
       "      <td>123.0</td>\n",
       "      <td>NaN</td>\n",
       "      <td>False</td>\n",
       "      <td>NaN</td>\n",
       "    </tr>\n",
       "    <tr>\n",
       "      <th>4</th>\n",
       "      <td>A10004</td>\n",
       "      <td>2007-03-20 00:00:00+00:00</td>\n",
       "      <td>2009-03-30 00:00:00+00:00</td>\n",
       "      <td>5</td>\n",
       "      <td>36.0</td>\n",
       "      <td>123.0</td>\n",
       "      <td>NaN</td>\n",
       "      <td>False</td>\n",
       "      <td>NaN</td>\n",
       "    </tr>\n",
       "  </tbody>\n",
       "</table>\n",
       "</div>"
      ],
      "text/plain": [
       "  case:concept:name                start_time                  end_time  \\\n",
       "0                A1 2006-07-24 00:00:00+00:00 2006-12-05 00:00:00+00:00   \n",
       "1              A100 2006-08-02 00:00:00+00:00 2009-03-30 00:00:00+00:00   \n",
       "2            A10000 2007-03-09 00:00:00+00:00 2008-09-09 00:00:00+00:00   \n",
       "3            A10001 2007-03-19 00:00:00+00:00 2007-09-24 00:00:00+00:00   \n",
       "4            A10004 2007-03-20 00:00:00+00:00 2009-03-30 00:00:00+00:00   \n",
       "\n",
       "   number_of_events  initial_fine_amount  final_outstanding_balance  \\\n",
       "0                 2                 35.0                       46.0   \n",
       "1                 5                 35.0                      117.5   \n",
       "2                 5                 36.0                       36.0   \n",
       "3                 6                 36.0                      123.0   \n",
       "4                 5                 36.0                      123.0   \n",
       "\n",
       "  is_dismissed  is_fully_paid is_sent_to_credit_collection  \n",
       "0          NaN          False                          NaN  \n",
       "1          NaN          False                          NaN  \n",
       "2          NaN          False                          NaN  \n",
       "3          NaN          False                          NaN  \n",
       "4          NaN          False                          NaN  "
      ]
     },
     "execution_count": 33,
     "metadata": {},
     "output_type": "execute_result"
    }
   ],
   "source": [
    "# Boolean feature: case dismissed (assuming 'dismissal' column exists)\n",
    "case_log['is_dismissed'] = df.groupby('case:concept:name')['dismissal'].last().fillna(False)\n",
    "\n",
    "# Boolean feature: fully paid (if outstanding balance is zero)\n",
    "case_log['is_fully_paid'] = case_log['final_outstanding_balance'] == 0\n",
    "\n",
    "# Boolean feature: sent to credit collection (assuming 'notificationType' is used for credit collection)\n",
    "case_log['is_sent_to_credit_collection'] = df.groupby('case:concept:name')['notificationType'].apply(lambda x: x.str.contains('credit_collection').any())\n",
    "\n",
    "# Display the updated case log\n",
    "case_log.head()\n"
   ]
  },
  {
   "cell_type": "markdown",
   "metadata": {},
   "source": [
    "## Task 5\n",
    "Add boolean features to the case log that represent whether a case is dismissed, fully paid, or sent to credit\n",
    "collection, respectively.\n",
    "\n",
    "a) Draw an upset plot to show the relationships between these outcomes.\n",
    "\n",
    "b) Reflect the results.\n",
    "\n",
    "First bar: \n",
    "This bar represents cases where only the is_fully_paid feature is true. In other words, these are cases where the fine was fully paid but the case was neither dismissed nor sent to credit collection.\n",
    "This indicates that the majority of cases were fully paid and no further actions (dismissal or credit collection) were necessary.\n",
    "\n",
    "Second bar:\n",
    "This bar represents cases where none of the features are true (all gray dots), meaning these cases were:\n",
    "Not fully paid,\n",
    "Not dismissed,\n",
    "Not sent to credit collection.\n",
    "These cases are likely still unresolved or in a pending state."
   ]
  },
  {
   "cell_type": "code",
   "execution_count": 34,
   "metadata": {},
   "outputs": [
    {
     "data": {
      "image/png": "[encoded data removed]",
      "text/plain": [
       "<Figure size 444.444x400 with 4 Axes>"
      ]
     },
     "metadata": {},
     "output_type": "display_data"
    }
   ],
   "source": [
    "from upsetplot import UpSet\n",
    "\n",
    "# Fill NaN values with False and then convert to integers\n",
    "case_outcomes = case_log[['is_dismissed', 'is_fully_paid', 'is_sent_to_credit_collection']].fillna(False).astype(int)\n",
    "\n",
    "# Prepare data for the upset plot\n",
    "upset_data = case_outcomes.value_counts()\n",
    "\n",
    "# Create the UpSet plot\n",
    "UpSet(upset_data).plot()\n",
    "plt.show()\n",
    "\n"
   ]
  },
  {
   "cell_type": "markdown",
   "metadata": {},
   "source": [
    "## Task 6\n",
    "Draw a scatter plot relating, for each case, the initial fine amount and the final outstanding balance. Which patterns do you see?\n",
    "\n",
    "The majority of cases involve relatively small fines, typically under 2000 units, and their final outstanding balances tend to remain low. However, a small number of cases show much higher outstanding balances, despite the initial fines being comparatively low, which could indicate non-payment or the accumulation of additional charges. Additionally, there are instances of negative balances, which likely point to overpayments, refunds, or adjustments made to the original amount owed."
   ]
  },
  {
   "cell_type": "code",
   "execution_count": 35,
   "metadata": {},
   "outputs": [
    {
     "data": {
      "image/png": "[encoded data removed]",
      "text/plain": [
       "<Figure size 640x480 with 1 Axes>"
      ]
     },
     "metadata": {},
     "output_type": "display_data"
    }
   ],
   "source": [
    "# Scatter plot of initial fine amount vs final outstanding balance\n",
    "plt.scatter(case_log['initial_fine_amount'], case_log['final_outstanding_balance'], alpha=0.6, edgecolor='black')\n",
    "\n",
    "# Adding labels and title\n",
    "plt.title('Initial Fine Amount vs Final Outstanding Balance')\n",
    "plt.xlabel('Initial Fine Amount')\n",
    "plt.ylabel('Final Outstanding Balance')\n",
    "\n",
    "# Show the plot\n",
    "plt.show()\n"
   ]
  },
  {
   "cell_type": "code",
   "execution_count": 36,
   "metadata": {},
   "outputs": [
    {
     "name": "stdout",
     "output_type": "stream",
     "text": [
      "dismissal\n",
      "#        1980\n",
      "$           2\n",
      "2           2\n",
      "3           3\n",
      "4           2\n",
      "5          10\n",
      "@           9\n",
      "A         213\n",
      "B           2\n",
      "C          10\n",
      "D          36\n",
      "E           7\n",
      "F           4\n",
      "G          93\n",
      "I          29\n",
      "J           1\n",
      "K           3\n",
      "M           5\n",
      "N          28\n",
      "NIL    152484\n",
      "Q           1\n",
      "R           4\n",
      "T         111\n",
      "U          11\n",
      "V          10\n",
      "Z           6\n",
      "dtype: int64\n"
     ]
    }
   ],
   "source": [
    "# Group by dismissal to see how many cases were dismissed vs not dismissed\n",
    "dismissal_summary = df.groupby('dismissal').size()\n",
    "\n",
    "# Print the summary\n",
    "print(dismissal_summary)\n"
   ]
  },
  {
   "cell_type": "markdown",
   "metadata": {},
   "source": [
    "## Task 7\n",
    "Find at least one noteworthy fact about the distribution (or a relationship) for any of the following features:\n",
    "org:resource, dismissal, article, points, or expense. \n",
    "\n",
    "The dismissals are categorized in letters. We can see that # and NIL have the most dismissals. And A has also 213 dismissals. These categories show the most dismissals. "
   ]
  },
  {
   "cell_type": "markdown",
   "metadata": {},
   "source": [
    "# Session 3"
   ]
  },
  {
   "cell_type": "markdown",
   "metadata": {},
   "source": [
    "## Part 1 (Discovery)"
   ]
  },
  {
   "cell_type": "markdown",
   "metadata": {},
   "source": [
    "### 1. Inspect the four most frequent sequential variants in Disco.\n"
   ]
  },
  {
   "cell_type": "markdown",
   "metadata": {},
   "source": [
    "\n",
    "a) Summarize each of them in one sentence. Reflect your inspection: Does any of the four variants show behaviour that is unexpected to you? If yes, briefly explain why it is unexpected.\n",
    "\n",
    "    Variant 1: This variant has five events (Create Fine, Send Fine, Insert Fine Notification, Add penalty, Send for Credit Collection) the mean duration is 1 year and 324 days.\n",
    "    Variant 2: This variant has 2 events (Create Fine, Payment) ,and the mean duration is 10 days and 7 hours\n",
    "    Variant 3: This variant has 2 events (Create Fine, Send Fine), and the mean duration is 97 and 5 minutes.\n",
    "    Variant 4: This variant has 5 events (Create Fine, Send Fine, Insert Fine Notification, Add penalty and Payment), and the mean duration is 1 year and 40 days.\n",
    "\n",
    "### Unexpected behaviour:\n",
    "\n",
    "    Variant 1 is unusually extended considering that most of these events are typically shorter administrative processes. The same statement can be applied for variant 3 since it only creates and sends a fine and the mean duration is too long for these events.\n",
    "    The fourth variant, despite lasting less than variant 1, is still quite lengthy considering the types of events.\n",
    "\n",
    "\n",
    "b) What percentage of cases is covered by the set of these four variants?\n",
    "    \n",
    "    Variant 1: 37.56%\n",
    "    Variant 2: 30.84%\n",
    "    Variant 3: 13.56%\n",
    "    Variant 4: 6.33%\n",
    "\n",
    "c) Use a filter to create a process map (a.k.a. DFG) with maximal detail (sliders at 100%) that covers only these four variants. Include a png file of that process map in your notebook.\n",
    "\n",
    "\n"
   ]
  },
  {
   "cell_type": "code",
   "execution_count": 8,
   "metadata": {},
   "outputs": [
    {
     "data": {
      "image/png": "[encoded data removed]",
      "text/plain": [
       "<Figure size 640x480 with 1 Axes>"
      ]
     },
     "metadata": {},
     "output_type": "display_data"
    }
   ],
   "source": [
    "path = \"Maps/Bildschirmfoto 2024-10-20 um 20.32.50.png\"\n",
    "img = plt.imread(path)\n",
    "imgplot = plt.imshow(img)"
   ]
  },
  {
   "cell_type": "markdown",
   "metadata": {},
   "source": [
    "### 2. Remove any active filters from task 1. Inspect the process map with absolute frequency.\n"
   ]
  },
  {
   "cell_type": "markdown",
   "metadata": {},
   "source": [
    "a) Play with the sliders. Write down at least three observations (either related to the existence of a transition (i.e., graph edge) or related to the frequency count) that are unexpected to you and hence you would suggest them to be further investigated. Explain briefly why.\n",
    "    \n",
    "    1. \"Send for Credic Collection\" seems to appear frequently, which is unexpected because ideally not all fines should progress to this stage. The frequency suggests that there might be an inefficiency in the system, or the criteria for moving to credit collection might be prematurely applied. \n",
    "    2. High Frequency of \"Add penalty\" (79860) indicates that the system ineffectively promotes early payment. It might be good to analyze why so many cases reach the penalty stage. \n",
    "    3. Furthermore, the number of transitions from \"Add penalty\" to \"Payment\" is expected to be higher than it actually is (4306), because more than 70000 penalties are added and the penalty should motivate individuals to pay the fine, but that is not the case. Only 5.4% of the cases proceed with the payment after the penalty."
   ]
  },
  {
   "cell_type": "markdown",
   "metadata": {},
   "source": [
    "Activity 100%, Path 0%"
   ]
  },
  {
   "cell_type": "code",
   "execution_count": null,
   "metadata": {},
   "outputs": [
    {
     "data": {
      "image/png": "[encoded data removed]",
      "text/plain": [
       "<Figure size 640x480 with 1 Axes>"
      ]
     },
     "metadata": {},
     "output_type": "display_data"
    }
   ],
   "source": [
    "img1 = \"Maps/Bildschirmfoto 2024-10-31 um 16.56.40.png\"\n",
    "img1 = plt.imread(img1)\n",
    "imgplot1 = plt.imshow(img1)\n"
   ]
  },
  {
   "cell_type": "markdown",
   "metadata": {},
   "source": [
    "Activity and Path 50%"
   ]
  },
  {
   "cell_type": "code",
   "execution_count": 12,
   "metadata": {},
   "outputs": [
    {
     "data": {
      "image/png": "[encoded data removed]",
      "text/plain": [
       "<Figure size 640x480 with 1 Axes>"
      ]
     },
     "metadata": {},
     "output_type": "display_data"
    }
   ],
   "source": [
    "img2 = \"Maps/Bildschirmfoto 2024-10-31 um 16.57.00.png\"\n",
    "img2 = plt.imread(img2)\n",
    "imgplot2 = plt.imshow(img2)\n"
   ]
  },
  {
   "cell_type": "markdown",
   "metadata": {},
   "source": [
    "Activity 0%, Path 100%"
   ]
  },
  {
   "cell_type": "code",
   "execution_count": 13,
   "metadata": {},
   "outputs": [
    {
     "data": {
      "image/png": "[encoded data removed]",
      "text/plain": [
       "<Figure size 640x480 with 1 Axes>"
      ]
     },
     "metadata": {},
     "output_type": "display_data"
    }
   ],
   "source": [
    "img3 = \"Maps/Bildschirmfoto 2024-10-31 um 16.57.16.png\"\n",
    "img3 = plt.imread(img3)\n",
    "imgplot3 = plt.imshow(img3)"
   ]
  },
  {
   "cell_type": "markdown",
   "metadata": {},
   "source": [
    "\n",
    "b)Use a filter to find a sequential variant that is not in the top 4 and that exhibits an unexpected transition. Report the variant as a sequence of activities.\n",
    "\n",
    "    Variant 17: The activities sequence is the following: create fine, send fine, insert fine notification, appeal to judge, add penalty and send for credit collection. \n",
    "\n",
    "c) Inspect a case of the variant reported in b). Can you come up with an explanation for the unexpected transition?\n",
    "    \n",
    "    There is also a appeal to judge which typically refers to a formal request made by the fined individual or entity to challenge the fine or dispute its validity."
   ]
  },
  {
   "cell_type": "markdown",
   "metadata": {},
   "source": [
    "## Part 2 (Rework Analysis, BPMN)"
   ]
  },
  {
   "cell_type": "markdown",
   "metadata": {},
   "source": [
    "### 3. Do a rework analysis.\n"
   ]
  },
  {
   "cell_type": "markdown",
   "metadata": {},
   "source": [
    "a) Which activities occur more than once in a case?\n",
    "    \n",
    "    Payment\n",
    "\n",
    "b) For each such activity, how many cases exhibit repetition?\n",
    "    \n",
    "    4014    \n",
    "\n",
    "c) For one repeating activity, if existent, inspect a case with exactly 2 occurrences of that activity and, if existent, a case with 5 or more occurrences of that activity. For each of the two cases, report the case id and explain the repetition.\n",
    "\n",
    "### Screenshot\n",
    "    CaseID: A10009 --> Has two payment occurrences\n",
    "    A fine was created on the 20.3.07 with the amount of 22 Euros. The fine was sent on 17.7.07 with 13 Euros expenses. Fine Notification was inserted on 23.7.07 and the penalty of 44 Euro was added on 21.9.07. The first payment proceeded on 1.10.07 with an amount of 35 Euros (22+13) covering the initial fine and the expenses. The second payment proceeded on the 31.10.07 with an amount of 22 Euros which is half of the penalty amount. Totally 57 Euros have been paid. \n",
    "\n",
    "    CaseID: V9576 --> Has 6 payment occurrences\n",
    "    A fine was created on the 31.07.02 with the amount of 131 Euros. The fine was sent on the 25.10.02 with 15.16 Euros expenses. In the next few months fine notification was inserted, date appeal to prefecture was inserted, appeal to prefecture was sent, penalty of 262 Euros was added, result appeal from prefecture was received, offender was notified of the result appeal and finally the appeal to Judge took place. This resulted to 6 payments of 24.36 Euros each from May to October of 2004. Totally 146.16 Euros were paid."
   ]
  },
  {
   "cell_type": "markdown",
   "metadata": {},
   "source": [
    "### 4. Create a BPMN model that reflects your current (preliminary) understanding of how the process should behave (You might have seen behavior in the log that does not comply with that understanding. That is fine.) Use bpmn.io to create a bpmn file and a svg file, start from the template provided in Canvas, which contains all log activities. Make sure that your model contains all these activities and that it is a sound workflow graph."
   ]
  },
  {
   "cell_type": "markdown",
   "metadata": {},
   "source": [
    "\n",
    "    ![alt text](../../../Downloads/diagram.svg)"
   ]
  },
  {
   "cell_type": "markdown",
   "metadata": {},
   "source": [
    "## Part 3 (Process Induction)"
   ]
  },
  {
   "cell_type": "markdown",
   "metadata": {},
   "source": [
    "### 5. Generate a BPMN (or Petri Net) model from the event log using the pm4py inductive miner. Write down two traces (i.e., sequence of activities) of the generated model that describe behaviour that you do not expect from the process and that are therefore not traces of your model from task 4."
   ]
  },
  {
   "cell_type": "markdown",
   "metadata": {},
   "source": [
    "    tbd"
   ]
  },
  {
   "cell_type": "markdown",
   "metadata": {},
   "source": [
    "# 4 Session (Load Analysis)"
   ]
  },
  {
   "cell_type": "markdown",
   "metadata": {},
   "source": [
    "## Part 1"
   ]
  },
  {
   "cell_type": "markdown",
   "metadata": {},
   "source": [
    "1. Inspect, in Disco, the charts Statistics | Overview | Events over time and Statistics | Overview | Active cases over time. Describe, for each chart, briefly your most striking observation. Write down, for each chart, a resulting\n",
    "question for further investigation.\n",
    "\n",
    "        For \"Events over time\":\n",
    "        Observation: There is a recurring peak in events at the end of each month, with more events occurring at the end compared to the beginning.\n",
    "        Question: Why do we observe a spike in events at the end of each month? Is there a particular deadline or trigger causing a surge in activity during this time?\n",
    "\n",
    "        For \"Active cases over time\":\n",
    "        Observation: The number of active cases is consistently high each day, with a rise at the end of the month followed by a drop at the beginning of the next month. The chart spans across a year.\n",
    "        Question: What process factors or external influences are causing the rise and subsequent drop in active cases at the end and beginning of each month? Are there recurring process steps that lead to this pattern?\n",
    "\n",
    "\n",
    "2. Study the distribution of case arrivals over the days of the year 2000. What patterns do you see?\n",
    "\n",
    "        There is a strong rise in the case arrivals over the year 2000. In November there is a small decrease but then it increases again. \n",
    "\n",
    "3. Study the distribution of case arrivals for each calendar month of the log. Do you see any drift or outliers\n",
    "comparing the different years of the log?\n",
    "\n",
    "        Observation:\n",
    "        There are abrupt decreases in case arrivals during the months of March/April. Additionally, the beginning of some years also shows a noticeable decrease in case arrivals.\n",
    "\n",
    "\n",
    "4. Draw a dotted chart for the first 110 arriving cases of the log in the order of their arrival. Write down at least\n",
    "two interesting observations.\n",
    "\n",
    "        In the beginning of 2000 there were a lot of files created, then in February the fines were sent and in April send for credit collection went out.\n",
    "\n",
    "5. Investigate absolute time distribution for Send for Credit Collection and Send Fine. Briefly describe and interpret the results."
   ]
  },
  {
   "cell_type": "code",
   "execution_count": null,
   "metadata": {},
   "outputs": [
    {
     "ename": "ModuleNotFoundError",
     "evalue": "No module named 'event_enricher_v2'",
     "output_type": "error",
     "traceback": [
      "\u001b[0;31m---------------------------------------------------------------------------\u001b[0m",
      "\u001b[0;31mModuleNotFoundError\u001b[0m                       Traceback (most recent call last)",
      "Cell \u001b[0;32mIn[39], line 8\u001b[0m\n\u001b[1;32m      5\u001b[0m \u001b[38;5;66;03m# Append the directory to sys.path\u001b[39;00m\n\u001b[1;32m      6\u001b[0m sys\u001b[38;5;241m.\u001b[39mpath\u001b[38;5;241m.\u001b[39mappend(\u001b[38;5;124m'\u001b[39m\u001b[38;5;124m/Users/Fulya/Desktop/Uni/Process Mining/\u001b[39m\u001b[38;5;124m'\u001b[39m)\n\u001b[0;32m----> 8\u001b[0m \u001b[38;5;28;01mfrom\u001b[39;00m \u001b[38;5;21;01mevent_enricher_v2\u001b[39;00m \u001b[38;5;28;01mimport\u001b[39;00m create_case_log, event_add_ordered_case_id\n\u001b[1;32m     10\u001b[0m \u001b[38;5;66;03m# Assuming 'df' is defined earlier in your code\u001b[39;00m\n\u001b[1;32m     11\u001b[0m case_log \u001b[38;5;241m=\u001b[39m create_case_log(df)\n",
      "\u001b[0;31mModuleNotFoundError\u001b[0m: No module named 'event_enricher_v2'"
     ]
    }
   ],
   "source": [
    "import plotly.express as px\n",
    "import pandas as pd\n",
    "import sys\n",
    "\n",
    "from event_enricher_v3 import create_case_log, event_add_ordered_case_id\n",
    "\n",
    "# Assuming 'df' is defined earlier in your code\n",
    "case_log = create_case_log(df)\n",
    "event_log = event_add_ordered_case_id(df, case_log)\n",
    "\n",
    "# Filter the case log and take the first 110 cases\n",
    "filtered_case_log = case_log.sort_values(by='start_time').head(110)\n",
    "filtered_event_log = event_log[event_log['case:concept:name'].isin(filtered_case_log.index)]\n",
    "\n",
    "# Ensure that 'time:timestamp' is in datetime format if not already\n",
    "filtered_event_log['time:timestamp'] = pd.to_datetime(filtered_event_log['time:timestamp'])\n",
    "\n",
    "# Create the dotted chart\n",
    "fig = px.scatter(\n",
    "    filtered_event_log,\n",
    "    x='time:timestamp',\n",
    "    y='ordered_case_id',\n",
    "    color='concept:name',\n",
    "    title='Dotted Chart of the First 110 Arriving Cases',\n",
    "    labels={'time:timestamp': 'Time', 'ordered_case_id': 'Ordered Case ID'},\n",
    "    height=500\n",
    ")\n",
    "\n",
    "# Update layout\n",
    "fig.update_yaxes(categoryorder='category ascending')\n",
    "fig.update_layout(title='Dotted Chart of the First 110 Arriving Cases', xaxis_title='Time', yaxis_title='Ordered Case ID')\n",
    "\n",
    "# Show the figure\n",
    "fig.show()\n"
   ]
  },
  {
   "cell_type": "markdown",
   "metadata": {},
   "source": [
    "## Part 2 (Load Analysis)"
   ]
  },
  {
   "cell_type": "markdown",
   "metadata": {},
   "source": [
    "6. Study case duration such that you can see the characteristics of the distribution for each outcome separately. Write down a notable\n",
    "observation of the distribution for each outcome. Most of the cases go up to 24 days. There are some cases which are processing up to 1 or 2 years. The shorter duration of a case leads to completed cases. The cases which have a longer duration are more complicated and can involve the judge.\n",
    "\n",
    "\n",
    "7. Consider the following two subprocesses given as sequences of activities:\n",
    "\n",
    "‒ S1 = ['Create Fine', 'Send Fine', 'Insert Fine Notification', 'Add penalty', 'Send for Credit Collection'] and\n",
    "\n",
    "‒ S2 = ['Insert Date Appeal to Prefecture', 'Send Appeal to Prefecture', 'Receive Result Appeal from Prefecture', 'Notify Result Appeal to Offender']\n",
    "\n",
    "Study the distribution of the delay between each pair of subsequent activities in a sequence, e.g., by plotting a histogram, i.e., 4 distributions for\n",
    "S1 and 3 distributions for S2.\n",
    "a) Write down at least one interesting observation for each distribution.\n",
    "\n",
    "    The delay in first distribution is more than in the second distribution but in the second distribution there is up to more hours but a few cases distributed.\n",
    "\n",
    "\n",
    "b) Which of the subprocess steps seems to be automated?\n",
    "\n",
    "    The first distribution seems automated because the delay hours are less than the second distribution.\n",
    "\n",
    "c) Which of the subprocess steps should be automated? Argue briefly why.\n",
    "\n",
    "    With the create fine the notification should be send directly to avoid delay time and if the fine is not paid it can be notified again if the fine is not paid for the second time it should then go to add penalty.\n",
    "\n",
    "d) The Italian law prescribes a deadline by when the Send Fine letter has to be sent. There is a deadline for letters sent to offenders living in Italy and another deadline for those living abroad. Assuming that, in the vast majority of cases, the letter is sent within Italy, what deadline does the histogram suggest existed for these cases? Briefly argue why.\n",
    "\n",
    "    TBD\n",
    "    \n",
    "e) What is the median transit time for the Send Fine letter?"
   ]
  },
  {
   "cell_type": "code",
   "execution_count": null,
   "metadata": {},
   "outputs": [],
   "source": [
    "import pandas as pd\n",
    "import numpy as np\n",
    "import plotly.express as px\n",
    "import sys\n",
    "\n",
    "# Sample event log data structure (to be replaced with actual data)\n",
    "data = {\n",
    "    'case:concept:name': ['A1', 'A2', 'A4', 'A5'],\n",
    "    'concept:name': [\n",
    "        'Create Fine', 'Send Fine', 'Insert Fine Notification', 'Add penalty', 'Send for Credit Collection',\n",
    "        'Insert Date Appeal to Prefecture', 'Send Appeal to Prefecture', 'Receive Result Appeal from Prefecture', 'Notify Result Appeal to Offender'\n",
    "    ],\n",
    "    'time:timestamp': [\n",
    "        '2024-01-01 09:00:00', '2024-01-02 10:00:00', '2024-01-03 12:00:00', '2024-01-04 14:00:00', '2024-01-05 16:00:00',\n",
    "        '2024-01-01 09:00:00', '2024-01-02 10:30:00', '2024-01-03 11:00:00', '2024-01-03 11:30:00'\n",
    "    ]\n",
    "}\n",
    "\n",
    "# Create a DataFrame\n",
    "event_log = pd.DataFrame(df)\n",
    "\n",
    "# Convert 'time:timestamp' to datetime\n",
    "event_log['time:timestamp'] = pd.to_datetime(event_log['time:timestamp'])\n",
    "\n",
    "# Calculate delays for each case\n",
    "event_log = event_log.sort_values(by=['case:concept:name', 'time:timestamp'])\n",
    "event_log['delay'] = event_log.groupby('case:concept:name')['time:timestamp'].diff().dt.total_seconds() / 3600  # Convert delay to hours\n",
    "\n",
    "# Split into subprocesses\n",
    "S1 = ['Create Fine', 'Send Fine', 'Insert Fine Notification', 'Add penalty', 'Send for Credit Collection']\n",
    "S2 = ['Insert Date Appeal to Prefecture', 'Send Appeal to Prefecture', 'Receive Result Appeal from Prefecture', 'Notify Result Appeal to Offender']\n",
    "\n",
    "# Filter delays for S1 and S2\n",
    "delays_S1 = event_log[event_log['concept:name'].isin(S1)]['delay'].dropna()\n",
    "delays_S2 = event_log[event_log['concept:name'].isin(S2)]['delay'].dropna()\n",
    "\n",
    "# Plot histograms for delays in S1\n",
    "fig_S1 = px.histogram(delays_S1, nbins=10, title='Delay Distributions for S1 Activities', labels={'value': 'Delay (Hours)'})\n",
    "fig_S1.show()\n",
    "\n",
    "# Plot histograms for delays in S2\n",
    "fig_S2 = px.histogram(delays_S2, nbins=10, title='Delay Distributions for S2 Activities', labels={'value': 'Delay (Hours)'})\n",
    "fig_S2.show()\n",
    "#median_transit_time = delays_S1[delays_S1.index[delays_S1['concept:name'] == 'Send Fine']].median()\n",
    "#print(\"Median Transit Time for Send Fine Letter:\", median_transit_time, \"hours\")\n",
    "\n"
   ]
  },
  {
   "cell_type": "markdown",
   "metadata": {},
   "source": [
    "# Session 5"
   ]
  },
  {
   "cell_type": "markdown",
   "metadata": {},
   "source": [
    "## Part 1"
   ]
  },
  {
   "cell_type": "markdown",
   "metadata": {},
   "source": [
    "### 1. Check the following rules using Declare constraints. Reflect the result. If violated, give the case id of a violating case, inspect and interpret the violation of that case."
   ]
  },
  {
   "cell_type": "markdown",
   "metadata": {},
   "source": [
    "a) Insert Fine Notification is always followed by Add penalty.\n",
    "    \n",
    "    There is a case (A10619) where insert fine notification is followed by insert data appeal to prefecture. This shows the process moving into a legal dispute phase, possibly indicating disagreement with the fine or its terms. \n",
    "\n",
    "b)Insert Date Appeal to Prefecture is always preceded by Send Fine.\n",
    "\n",
    "    True\n",
    "\n",
    "c) Payment and Send for Credit Collection do not occur together in a case.\n",
    "\n",
    "    Case V11790 shows that payment and send for credit collection occur together. Here the process is set up as the following: create fine, send fine, insert fine notification, insert data appeal to prefecture, send appeal to prefecture, add penalty, receive result appeal from prefecture, notify results appeal to offender, payment, payment and finally send for credit collection. \n",
    "\n",
    "    The payment was either incomplete, late, or not fully registered in the system before the case was sent for credit collection.\n",
    "\n",
    "    There might have been a technical or administrative delay in recognizing the payment, causing the system to trigger credit collection procedures.\n",
    "\n",
    "    Alternatively, the payment may have been part of a larger issue, such as partial fulfillment or special handling due to the outcome of the appeal process."
   ]
  },
  {
   "cell_type": "markdown",
   "metadata": {},
   "source": [
    "### 2. Choose another Declare constraint that you expect to be satisfied and check it. Reflect the result.\n",
    "\n",
    "    Constraint: After creating the fine the following step is always send fine.\n",
    "\n",
    "    This constraint does not hold with the case A12260. After creating the fine the payment is made. And after the payment the send fine comes along. "
   ]
  },
  {
   "cell_type": "markdown",
   "metadata": {},
   "source": [
    "## Part 2"
   ]
  },
  {
   "cell_type": "markdown",
   "metadata": {},
   "source": [
    "3. Reconsider the BPMN model you created in Task 3.4. Find a sequential variant of the log which is not a trace of the\n",
    "BPMN model. You can do this either manually or using a conformance checker in either pm4py, Celonis, or Apromore.\n",
    "a) Report the variant.\n",
    "b) Make a brief statement whether you consider the behavior in the variant expected or unexpected and why.\n",
    "i. If the variant is expected, describe textually how the BPMN model should be updated to allow the variant.\n",
    "ii. If the variant is unexpected, make sure you have not reported the unexpected behaviour in one of the previous\n",
    "tasks, otherwise find another variant. Inspect a case of the variant and interpret the unexpected behavior.\n",
    "4. Check the log’s conformance with the following two statements in your notebook using enrichments where necessary. If\n",
    "the log does not conform perfectly, report the number of violating cases and the fuzzy truth value on the case log, name\n",
    "the id of at least one violating case, inspect that case and interpret the violation of that case.\n",
    "a) For each event of a case holds: If the outstanding balance after the event is 0 or less, then there is no further event.\n",
    "b) An appeal to the prefecture must be raised 60 days after Insert Fine Notification or earlier."
   ]
  },
  {
   "cell_type": "markdown",
   "metadata": {},
   "source": [
    "# Session 6"
   ]
  },
  {
   "cell_type": "markdown",
   "metadata": {},
   "source": [
    "## Part 1\n"
   ]
  },
  {
   "cell_type": "markdown",
   "metadata": {},
   "source": [
    "1.) Consider the outcome that a case is not credit collected and consider the explanation that if the police does not send the fine letter within the deadline required by law, then they do not send the case for credit collection. (For the deadline, cf. Task 4.7.d, you may either consider the deadline for offenders living in Italy or the deadline for offenders living abroad, which we assume to be 360 days.) Evaluate precision and recalled cases for the explanation and state the number of false positives.\n",
    "\n",
    "2.) Note that all cases of the sequential variant ['Create Fine', 'Send Fine'] are unresolved as there is no Payment, no Send for Credit Collection, and no appeal.\n",
    "\n",
    "a) Check precision and recalled cases of the explanation \"the case if of this variant\" for the outcome \"not credit collected\".\n",
    "\n",
    "b) Revisit the set of dismissal values that occur in the log and consider the explanation that cases of this variant have been dismissed with some dismissal value other than '#' or 'G'. What is a maximal set of dismissal values that explain the outcome \"a case is of the variant ['Create Fine', 'Send Fine']\" with precision 1.0?\n",
    "Calculate how many cases are recalled by that explanation."
   ]
  },
  {
   "cell_type": "markdown",
   "metadata": {},
   "source": [
    "## Part 2"
   ]
  },
  {
   "cell_type": "markdown",
   "metadata": {},
   "source": [
    "\n",
    "3.) Let's assume that all cases of the ['Create Fine', 'Send Fine'] have the outcome \"early dismissal\", i.e., we assume that in the cases of this variant without a dismissal code, the dismissal code might have been forgotten to be inserted.\n",
    "\n",
    "a) Set up rule induction in a separate notebook for the outcome \"not credit collected\". Generate a rich case log using brute-force enrichment. Configure the rule induction such that fully paid and dismissed cases, including \"early dismissal\" cases are already explained. Run rule induction.\n",
    "\n",
    "b) Find at least two additional explanations why cases are not credit collected such that the precision is 0.95 or higher and there are 200 or more recalled cases for each explanation. You are free in using any combination of techniques for finding explanations. In particular, you can use any previous insights and any additional enrichments (hint: represent whether the penalty has (not) been paid). For each explanation that you find, include the following in your main notebook: (i) calculation of precision and recalled cases; (ii) a brief description why you consider the explanation meaningful. (Make sure that the explanation is not trivial); (iii) Describe briefly how you obtained the explanation. Furthermore, list any hypotheses that you have evaluated but did not turn out to be good explanations. Try to keep your rule induction notebook tidy as you will be asked to also submit it.\n",
    "\n",
    "4.) Pick one of your open questions from your analytics lists. Make sure it is still open. Try to answer it using any techniques. (If you do not have an open question or if you do not know how to approach this task, then consider the following open question: Why do some cases that have a Send Appeal to Prefecture do not also have a Receive Result Appeal from Prefecture? -- and try to find an explanation.) Include in the main notebook the following: \n",
    "\n",
    "(i) the open question you addressed, \n",
    "\n",
    "(ii) the results you obtained if any, including any charts or calculations that show the validity of results, \n",
    "\n",
    "(iii) a brief description of what you did (only if you do not include these steps explicitly in the main notebook)."
   ]
  }
 ],
 "metadata": {
  "kernelspec": {
   "display_name": "Python 3",
   "language": "python",
   "name": "python3"
  },
  "language_info": {
   "codemirror_mode": {
    "name": "ipython",
    "version": 3
   },
   "file_extension": ".py",
   "mimetype": "text/x-python",
   "name": "python",
   "nbconvert_exporter": "python",
   "pygments_lexer": "ipython3",
   "version": "3.10.7"
  },
  "orig_nbformat": 4
 },
 "nbformat": 4,
 "nbformat_minor": 2
}
